{
 "cells": [
  {
   "cell_type": "code",
   "execution_count": 19,
   "metadata": {
    "collapsed": false
   },
   "outputs": [
    {
     "name": "stdout",
     "output_type": "stream",
     "text": [
      "Okay\n"
     ]
    }
   ],
   "source": [
    "import numpy as np\n",
    "import pandas as pd\n",
    "from scipy.sparse import linalg\n",
    "import os, sys\n",
    "import matplotlib.pyplot as plt\n",
    "\n",
    "pucks = pd.read_csv('./pucks.csv')\n",
    "tickets = pd.read_csv('./tickets.csv')\n",
    "gates = pd.read_csv('./gates.csv')\n",
    "\n",
    "print('Okay')"
   ]
  },
  {
   "cell_type": "code",
   "execution_count": 20,
   "metadata": {
    "collapsed": false
   },
   "outputs": [
    {
     "name": "stdout",
     "output_type": "stream",
     "text": [
      "------------------PUCKS------------------\n",
      "<class 'pandas.core.frame.DataFrame'>\n",
      "RangeIndex: 753 entries, 0 to 752\n",
      "Data columns (total 12 columns):\n",
      "No                 753 non-null object\n",
      "ArrivingDate       753 non-null object\n",
      "ArrivingTime       753 non-null object\n",
      "ArrivingFlight     753 non-null object\n",
      "ArrivingDI         753 non-null object\n",
      "FlightType         753 non-null object\n",
      "DepartDate         753 non-null object\n",
      "DepartTime         753 non-null object\n",
      "DepartFlight       753 non-null object\n",
      "DepartDI           753 non-null object\n",
      "PreviousAirport    753 non-null object\n",
      "NextAirport        753 non-null object\n",
      "dtypes: object(12)\n",
      "memory usage: 70.7+ KB\n",
      "None\n",
      "-----------------------------------------\n",
      "           No ArrivingDate ArrivingTime ArrivingFlight ArrivingDI FlightType  \\\n",
      "count     753          753          753            753        753        753   \n",
      "unique    753            3          170            281          2         15   \n",
      "top     PK413    21-Jan-18        20:00          *****          D        320   \n",
      "freq        1          252           12             12        472        165   \n",
      "\n",
      "       DepartDate DepartTime DepartFlight DepartDI PreviousAirport NextAirport  \n",
      "count         753        753          753      753             753         753  \n",
      "unique          4        174          276        2             135         133  \n",
      "top     21-Jan-18      21:00        *****        D             EMD         ***  \n",
      "freq          299         18           67      491              27          67  \n",
      "-----------------------------------------\n"
     ]
    }
   ],
   "source": [
    "print('------------------PUCKS------------------')\n",
    "print(pucks.info())\n",
    "print('-----------------------------------------')\n",
    "print(pucks.describe())\n",
    "print('-----------------------------------------')"
   ]
  },
  {
   "cell_type": "code",
   "execution_count": 21,
   "metadata": {
    "collapsed": false
   },
   "outputs": [
    {
     "name": "stdout",
     "output_type": "stream",
     "text": [
      "------------------PUCKS------------------\n",
      "<class 'pandas.core.frame.DataFrame'>\n",
      "RangeIndex: 4796 entries, 0 to 4795\n",
      "Data columns (total 6 columns):\n",
      "PsgID             4796 non-null object\n",
      "PsgNumber         4796 non-null int64\n",
      "ArrivingFlight    4796 non-null object\n",
      "ArrivingDate      4796 non-null object\n",
      "DepartFlight      4796 non-null object\n",
      "DepartDate        4796 non-null object\n",
      "dtypes: int64(1), object(5)\n",
      "memory usage: 224.9+ KB\n",
      "None\n",
      "-----------------------------------------\n",
      "         PsgNumber\n",
      "count  4796.000000\n",
      "mean      1.669725\n",
      "std       0.470361\n",
      "min       1.000000\n",
      "25%       1.000000\n",
      "50%       2.000000\n",
      "75%       2.000000\n",
      "max       2.000000\n",
      "-----------------------------------------\n"
     ]
    }
   ],
   "source": [
    "print('------------------PUCKS------------------')\n",
    "print(tickets.info())\n",
    "print('-----------------------------------------')\n",
    "print(tickets.describe())\n",
    "print('-----------------------------------------')"
   ]
  },
  {
   "cell_type": "code",
   "execution_count": 22,
   "metadata": {
    "collapsed": false
   },
   "outputs": [
    {
     "name": "stdout",
     "output_type": "stream",
     "text": [
      "------------------PUCKS------------------\n",
      "<class 'pandas.core.frame.DataFrame'>\n",
      "RangeIndex: 69 entries, 0 to 68\n",
      "Data columns (total 6 columns):\n",
      "Gate          69 non-null object\n",
      "Terminal      69 non-null object\n",
      "Region        69 non-null object\n",
      "ArrivingDI    69 non-null object\n",
      "DepartDI      69 non-null object\n",
      "FlightType    69 non-null object\n",
      "dtypes: object(6)\n",
      "memory usage: 3.3+ KB\n",
      "None\n",
      "-----------------------------------------\n",
      "       Gate Terminal  Region ArrivingDI DepartDI FlightType\n",
      "count    69       69      69         69       69         69\n",
      "unique   69        2       4          3        3          2\n",
      "top      S2        S  Center          D        D          N\n",
      "freq      1       41      20         39       39         45\n",
      "-----------------------------------------\n"
     ]
    }
   ],
   "source": [
    "print('------------------PUCKS------------------')\n",
    "print(gates.info())\n",
    "print('-----------------------------------------')\n",
    "print(gates.describe())\n",
    "print('-----------------------------------------')"
   ]
  },
  {
   "cell_type": "code",
   "execution_count": 24,
   "metadata": {
    "collapsed": false
   },
   "outputs": [
    {
     "name": "stdout",
     "output_type": "stream",
     "text": [
      "(753,)\n"
     ]
    }
   ],
   "source": [
    "print(pucks['ArrivingDate'].values.shape)"
   ]
  },
  {
   "cell_type": "code",
   "execution_count": null,
   "metadata": {
    "collapsed": true
   },
   "outputs": [],
   "source": []
  }
 ],
 "metadata": {
  "anaconda-cloud": {},
  "kernelspec": {
   "display_name": "Python [conda root]",
   "language": "python",
   "name": "conda-root-py"
  },
  "language_info": {
   "codemirror_mode": {
    "name": "ipython",
    "version": 3
   },
   "file_extension": ".py",
   "mimetype": "text/x-python",
   "name": "python",
   "nbconvert_exporter": "python",
   "pygments_lexer": "ipython3",
   "version": "3.5.2"
  }
 },
 "nbformat": 4,
 "nbformat_minor": 2
}
